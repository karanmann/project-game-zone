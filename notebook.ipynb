{
 "cells": [
  {
   "cell_type": "markdown",
   "metadata": {},
   "source": [
    "# Enemy ships to be generated randomly\n",
    "# Enemy Ships to shoot randomly\n",
    "# Speed of the game increases slowly.\n",
    "# ScoreCounter\n",
    "# Sound effects\n",
    "# explosion Animation & Sound\n",
    "# Player Ships shoots\n",
    "# Maybe three lives before game over.\n",
    "# Start Screen & EndScreen"
   ]
  },
  {
   "cell_type": "markdown",
   "metadata": {},
   "source": []
  }
 ],
 "metadata": {
  "language_info": {
   "name": "python"
  },
  "orig_nbformat": 4
 },
 "nbformat": 4,
 "nbformat_minor": 2
}
